{
 "cells": [
  {
   "cell_type": "code",
   "execution_count": 1,
   "metadata": {},
   "outputs": [],
   "source": [
    "import numpy as np\n",
    "import pandas as pd\n",
    "import glob\n",
    "import os\n",
    "import tensorflow as tf\n",
    "from tensorflow.keras.models import Sequential\n",
    "from tensorflow.keras.layers import LSTM, Dense, Dropout, Input, BatchNormalization\n",
    "from sklearn.model_selection import train_test_split\n",
    "from sklearn.impute import SimpleImputer\n",
    "from sklearn.preprocessing import StandardScaler\n",
    "from sklearn.metrics import precision_recall_curve"
   ]
  },
  {
   "cell_type": "markdown",
   "metadata": {},
   "source": [
    "# Step 1: Load and Preprocess Data"
   ]
  },
  {
   "cell_type": "code",
   "execution_count": 3,
   "metadata": {},
   "outputs": [],
   "source": [
    "def load_data_from_psv(folder_path):\n",
    "    \"\"\"Load all .psv files and concatenate into a single DataFrame.\"\"\"\n",
    "    all_files = glob.glob(os.path.join(folder_path, '*.psv'))\n",
    "    data_list = []\n",
    "    for file in all_files:\n",
    "        df = pd.read_csv(file, sep='|')\n",
    "        data_list.append(df)\n",
    "    return pd.concat(data_list, ignore_index=True)\n",
    "\n",
    "data_folder = r'C:\\Users\\uSER\\source\\repos\\alternative-assignment-aml\\training_setA\\training'\n",
    "data = load_data_from_psv(data_folder)"
   ]
  },
  {
   "cell_type": "markdown",
   "metadata": {},
   "source": [
    "# Step 2: Handle Missing Values"
   ]
  },
  {
   "cell_type": "code",
   "execution_count": 4,
   "metadata": {},
   "outputs": [
    {
     "name": "stderr",
     "output_type": "stream",
     "text": [
      "C:\\Users\\uSER\\AppData\\Local\\Temp\\ipykernel_28152\\1711906078.py:4: FutureWarning: DataFrame.fillna with 'method' is deprecated and will raise in a future version. Use obj.ffill() or obj.bfill() instead.\n",
      "  df.fillna(method='ffill', inplace=True)\n",
      "C:\\Users\\uSER\\AppData\\Local\\Temp\\ipykernel_28152\\1711906078.py:5: FutureWarning: DataFrame.fillna with 'method' is deprecated and will raise in a future version. Use obj.ffill() or obj.bfill() instead.\n",
      "  df.fillna(method='bfill', inplace=True)\n",
      "c:\\Users\\uSER\\anaconda3\\envs\\aaa_env\\lib\\site-packages\\sklearn\\utils\\extmath.py:1101: RuntimeWarning: invalid value encountered in divide\n",
      "  updated_mean = (last_sum + new_sum) / updated_sample_count\n",
      "c:\\Users\\uSER\\anaconda3\\envs\\aaa_env\\lib\\site-packages\\sklearn\\utils\\extmath.py:1106: RuntimeWarning: invalid value encountered in divide\n",
      "  T = new_sum / new_sample_count\n",
      "c:\\Users\\uSER\\anaconda3\\envs\\aaa_env\\lib\\site-packages\\sklearn\\utils\\extmath.py:1126: RuntimeWarning: invalid value encountered in divide\n",
      "  new_unnormalized_variance -= correction**2 / new_sample_count\n"
     ]
    }
   ],
   "source": [
    "def preprocess_data(df):\n",
    "    \"\"\"Preprocess the data: handle missing values and normalize.\"\"\"\n",
    "    # Fill missing values (forward fill, then backward fill as fallback)\n",
    "    df.fillna(method='ffill', inplace=True)\n",
    "    df.fillna(method='bfill', inplace=True)\n",
    "\n",
    "    # Normalize continuous features\n",
    "    scaler = StandardScaler()\n",
    "    continuous_features = [col for col in df.columns if col != 'SepsisLabel' and df[col].dtype in [np.float64, np.int64]]\n",
    "    df[continuous_features] = scaler.fit_transform(df[continuous_features])\n",
    "\n",
    "    return df, continuous_features\n",
    "\n",
    "# Preprocess the data\n",
    "data, feature_columns = preprocess_data(data)"
   ]
  },
  {
   "cell_type": "markdown",
   "metadata": {},
   "source": [
    "# Step 3: Prepare Data for LSTM"
   ]
  },
  {
   "cell_type": "code",
   "execution_count": 5,
   "metadata": {},
   "outputs": [],
   "source": [
    "def create_sequences_optimized(df, features, target, seq_length):\n",
    "    \"\"\"Efficiently create sequences of data for LSTM input.\"\"\"\n",
    "    data_array = df[features].values  # Convert to NumPy array\n",
    "    target_array = df[target].values  # Convert target to NumPy array\n",
    "\n",
    "    # Ensure sufficient data for sequences\n",
    "    if len(data_array) <= seq_length:\n",
    "        raise ValueError(\"Data length must be greater than the sequence length.\")\n",
    "\n",
    "    num_samples = len(data_array) - seq_length + 1  # Total sequences\n",
    "    X = np.lib.stride_tricks.sliding_window_view(data_array, (seq_length, len(features)))\n",
    "    X = X.reshape(num_samples, seq_length, len(features))  # Adjust shape\n",
    "\n",
    "    y = target_array[seq_length - 1:]  # Align target labels\n",
    "\n",
    "    return X, y\n",
    "\n",
    "# Define sequence length and prepare data\n",
    "sequence_length = 10\n",
    "X, y = create_sequences_optimized(data, feature_columns, 'SepsisLabel', sequence_length)\n",
    "\n",
    "# Split into training, validation, and test sets\n",
    "X_train, X_temp, y_train, y_temp = train_test_split(X, y, test_size=0.3, stratify=y, random_state=42)\n",
    "X_val, X_test, y_val, y_test = train_test_split(X_temp, y_temp, test_size=0.5, stratify=y_temp, random_state=42)"
   ]
  },
  {
   "cell_type": "markdown",
   "metadata": {},
   "source": [
    "# Step 4: Build LSTM Model"
   ]
  },
  {
   "cell_type": "code",
   "execution_count": 6,
   "metadata": {},
   "outputs": [],
   "source": [
    "def build_lstm_model(input_shape):\n",
    "    \"\"\"Build and compile an LSTM model.\"\"\"\n",
    "    model = Sequential([\n",
    "        Input(shape=input_shape),\n",
    "        LSTM(128, return_sequences=True, activation='tanh'),\n",
    "        BatchNormalization(),\n",
    "        Dropout(0.3),\n",
    "        LSTM(64, activation='tanh'),\n",
    "        BatchNormalization(),\n",
    "        Dropout(0.3),\n",
    "        Dense(32, activation='relu'),\n",
    "        Dropout(0.2),\n",
    "        Dense(1, activation='sigmoid')  # Output layer for binary classification\n",
    "    ])\n",
    "\n",
    "    model.compile(\n",
    "        optimizer=tf.keras.optimizers.Adam(learning_rate=0.001),\n",
    "        loss='binary_crossentropy',\n",
    "        metrics=['accuracy']\n",
    "    )\n",
    "    return model\n",
    "\n",
    "# Build the model\n",
    "input_shape = (X_train.shape[1], X_train.shape[2])\n",
    "model = build_lstm_model(input_shape)"
   ]
  },
  {
   "cell_type": "markdown",
   "metadata": {},
   "source": [
    "# Step 5: Train the Model"
   ]
  },
  {
   "cell_type": "code",
   "execution_count": 7,
   "metadata": {},
   "outputs": [
    {
     "name": "stdout",
     "output_type": "stream",
     "text": [
      "Epoch 1/20\n",
      "\u001b[1m8643/8643\u001b[0m \u001b[32m━━━━━━━━━━━━━━━━━━━━\u001b[0m\u001b[37m\u001b[0m \u001b[1m86s\u001b[0m 10ms/step - accuracy: 0.9782 - loss: 0.3178 - val_accuracy: 0.9783 - val_loss: 0.1046\n",
      "Epoch 2/20\n",
      "\u001b[1m8643/8643\u001b[0m \u001b[32m━━━━━━━━━━━━━━━━━━━━\u001b[0m\u001b[37m\u001b[0m \u001b[1m81s\u001b[0m 9ms/step - accuracy: 0.9786 - loss: 0.1036 - val_accuracy: 0.9783 - val_loss: 0.1046\n",
      "Epoch 3/20\n",
      "\u001b[1m8643/8643\u001b[0m \u001b[32m━━━━━━━━━━━━━━━━━━━━\u001b[0m\u001b[37m\u001b[0m \u001b[1m79s\u001b[0m 9ms/step - accuracy: 0.9783 - loss: 0.1047 - val_accuracy: 0.9783 - val_loss: 0.1046\n",
      "Epoch 4/20\n",
      "\u001b[1m8643/8643\u001b[0m \u001b[32m━━━━━━━━━━━━━━━━━━━━\u001b[0m\u001b[37m\u001b[0m \u001b[1m81s\u001b[0m 9ms/step - accuracy: 0.9783 - loss: 0.1047 - val_accuracy: 0.9783 - val_loss: 0.1046\n",
      "Epoch 5/20\n",
      "\u001b[1m8643/8643\u001b[0m \u001b[32m━━━━━━━━━━━━━━━━━━━━\u001b[0m\u001b[37m\u001b[0m \u001b[1m81s\u001b[0m 9ms/step - accuracy: 0.9783 - loss: 0.1047 - val_accuracy: 0.9783 - val_loss: 0.1045\n",
      "Epoch 6/20\n",
      "\u001b[1m8643/8643\u001b[0m \u001b[32m━━━━━━━━━━━━━━━━━━━━\u001b[0m\u001b[37m\u001b[0m \u001b[1m79s\u001b[0m 9ms/step - accuracy: 0.9782 - loss: 0.1050 - val_accuracy: 0.9783 - val_loss: 0.1046\n",
      "Epoch 7/20\n",
      "\u001b[1m8643/8643\u001b[0m \u001b[32m━━━━━━━━━━━━━━━━━━━━\u001b[0m\u001b[37m\u001b[0m \u001b[1m81s\u001b[0m 9ms/step - accuracy: 0.9783 - loss: 0.1047 - val_accuracy: 0.9783 - val_loss: 0.1046\n",
      "Epoch 8/20\n",
      "\u001b[1m8643/8643\u001b[0m \u001b[32m━━━━━━━━━━━━━━━━━━━━\u001b[0m\u001b[37m\u001b[0m \u001b[1m82s\u001b[0m 10ms/step - accuracy: 0.9781 - loss: 0.1053 - val_accuracy: 0.9783 - val_loss: 0.1045\n",
      "Epoch 9/20\n",
      "\u001b[1m8643/8643\u001b[0m \u001b[32m━━━━━━━━━━━━━━━━━━━━\u001b[0m\u001b[37m\u001b[0m \u001b[1m82s\u001b[0m 9ms/step - accuracy: 0.9787 - loss: 0.1032 - val_accuracy: 0.9783 - val_loss: 0.1045\n",
      "Epoch 10/20\n",
      "\u001b[1m8643/8643\u001b[0m \u001b[32m━━━━━━━━━━━━━━━━━━━━\u001b[0m\u001b[37m\u001b[0m \u001b[1m81s\u001b[0m 9ms/step - accuracy: 0.9784 - loss: 0.1044 - val_accuracy: 0.9783 - val_loss: 0.1045\n",
      "Epoch 11/20\n",
      "\u001b[1m8643/8643\u001b[0m \u001b[32m━━━━━━━━━━━━━━━━━━━━\u001b[0m\u001b[37m\u001b[0m \u001b[1m81s\u001b[0m 9ms/step - accuracy: 0.9783 - loss: 0.1046 - val_accuracy: 0.9783 - val_loss: 0.1046\n",
      "Epoch 12/20\n",
      "\u001b[1m8643/8643\u001b[0m \u001b[32m━━━━━━━━━━━━━━━━━━━━\u001b[0m\u001b[37m\u001b[0m \u001b[1m83s\u001b[0m 10ms/step - accuracy: 0.9783 - loss: 0.1047 - val_accuracy: 0.9783 - val_loss: 0.1046\n",
      "Epoch 13/20\n",
      "\u001b[1m8643/8643\u001b[0m \u001b[32m━━━━━━━━━━━━━━━━━━━━\u001b[0m\u001b[37m\u001b[0m \u001b[1m85s\u001b[0m 10ms/step - accuracy: 0.9781 - loss: 0.1054 - val_accuracy: 0.9783 - val_loss: 0.1046\n",
      "Epoch 14/20\n",
      "\u001b[1m8643/8643\u001b[0m \u001b[32m━━━━━━━━━━━━━━━━━━━━\u001b[0m\u001b[37m\u001b[0m \u001b[1m85s\u001b[0m 10ms/step - accuracy: 0.9784 - loss: 0.1043 - val_accuracy: 0.9783 - val_loss: 0.1045\n",
      "Epoch 15/20\n",
      "\u001b[1m8643/8643\u001b[0m \u001b[32m━━━━━━━━━━━━━━━━━━━━\u001b[0m\u001b[37m\u001b[0m \u001b[1m82s\u001b[0m 9ms/step - accuracy: 0.9780 - loss: 0.1058 - val_accuracy: 0.9783 - val_loss: 0.1045\n"
     ]
    }
   ],
   "source": [
    "from tensorflow.keras.callbacks import EarlyStopping\n",
    "\n",
    "early_stopping = EarlyStopping(monitor='val_loss', patience=5)\n",
    "history = model.fit(\n",
    "    X_train, y_train,\n",
    "    validation_data=(X_val, y_val),\n",
    "    epochs=20,\n",
    "    batch_size=64,\n",
    "    callbacks=[early_stopping],\n",
    "    verbose=1\n",
    ")\n"
   ]
  },
  {
   "cell_type": "markdown",
   "metadata": {},
   "source": [
    "# Step 6: Evaluate the Model"
   ]
  },
  {
   "cell_type": "code",
   "execution_count": 8,
   "metadata": {},
   "outputs": [
    {
     "name": "stdout",
     "output_type": "stream",
     "text": [
      "\u001b[1m3705/3705\u001b[0m \u001b[32m━━━━━━━━━━━━━━━━━━━━\u001b[0m\u001b[37m\u001b[0m \u001b[1m11s\u001b[0m 3ms/step - accuracy: 0.9785 - loss: 0.1040\n",
      "Test Loss: 0.10451813042163849, Test Accuracy: 0.97831791639328\n"
     ]
    }
   ],
   "source": [
    "def evaluate_model(model, X_test, y_test):\n",
    "    \"\"\"Evaluate the LSTM model.\"\"\"\n",
    "    loss, accuracy = model.evaluate(X_test, y_test, verbose=1)\n",
    "    print(f\"Test Loss: {loss}, Test Accuracy: {accuracy}\")\n",
    "\n",
    "evaluate_model(model, X_test, y_test)"
   ]
  },
  {
   "cell_type": "markdown",
   "metadata": {},
   "source": [
    "# Step 7: Optimize Classification Threshold"
   ]
  },
  {
   "cell_type": "code",
   "execution_count": 9,
   "metadata": {},
   "outputs": [
    {
     "name": "stdout",
     "output_type": "stream",
     "text": [
      "\u001b[1m3705/3705\u001b[0m \u001b[32m━━━━━━━━━━━━━━━━━━━━\u001b[0m\u001b[37m\u001b[0m \u001b[1m10s\u001b[0m 3ms/step\n",
      "Optimal Threshold: 0.02134244330227375\n"
     ]
    }
   ],
   "source": [
    "preds = model.predict(X_val)\n",
    "precision, recall, thresholds = precision_recall_curve(y_val, preds)\n",
    "optimal_threshold = thresholds[np.argmax(precision * recall)]\n",
    "print(f\"Optimal Threshold: {optimal_threshold}\")"
   ]
  },
  {
   "cell_type": "markdown",
   "metadata": {},
   "source": [
    "# Step 8: Save the Model"
   ]
  },
  {
   "cell_type": "code",
   "execution_count": 10,
   "metadata": {},
   "outputs": [
    {
     "name": "stderr",
     "output_type": "stream",
     "text": [
      "WARNING:absl:You are saving your model as an HDF5 file via `model.save()` or `keras.saving.save_model(model)`. This file format is considered legacy. We recommend using instead the native Keras format, e.g. `model.save('my_model.keras')` or `keras.saving.save_model(model, 'my_model.keras')`. \n"
     ]
    }
   ],
   "source": [
    "model.save('optimized_sepsis_lstm_model.h5')"
   ]
  },
  {
   "cell_type": "code",
   "execution_count": 17,
   "metadata": {},
   "outputs": [],
   "source": [
    "from tensorflow.keras.models import Model\n",
    "from tensorflow.keras.layers import BatchNormalization, Lambda, Layer"
   ]
  },
  {
   "cell_type": "code",
   "execution_count": 19,
   "metadata": {},
   "outputs": [],
   "source": [
    "# Build Variational Autoencoder (VAE)\n",
    "\n",
    "# Define VAE Encoder\n",
    "def build_vae_encoder(input_dim, latent_dim):\n",
    "    inputs = Input(shape=(input_dim,))\n",
    "    h = Dense(64, activation='relu')(inputs)\n",
    "    z_mean = Dense(latent_dim, name='z_mean')(h)\n",
    "    z_log_var = Dense(latent_dim, name='z_log_var')(h)\n",
    "    return Model(inputs, [z_mean, z_log_var], name=\"encoder\"), inputs\n",
    "\n",
    "# Define Sampling Layer\n",
    "class Sampling(Layer):\n",
    "    def call(self, inputs):\n",
    "        z_mean, z_log_var = inputs\n",
    "        batch = tf.shape(z_mean)[0]\n",
    "        dim = tf.shape(z_mean)[1]\n",
    "        epsilon = tf.random.normal(shape=(batch, dim))\n",
    "        return z_mean + tf.exp(0.5 * z_log_var) * epsilon\n",
    "\n",
    "# Define VAE Decoder\n",
    "def build_vae_decoder(latent_dim, output_dim):\n",
    "    latent_inputs = Input(shape=(latent_dim,), name='z_sampling')\n",
    "    x = Dense(64, activation='relu')(latent_inputs)\n",
    "    outputs = Dense(output_dim, activation='sigmoid')(x)\n",
    "    return Model(latent_inputs, outputs, name=\"decoder\")\n",
    "\n"
   ]
  },
  {
   "cell_type": "code",
   "execution_count": 39,
   "metadata": {},
   "outputs": [],
   "source": [
    "\n",
    "# VAE Loss Layer Integration\n",
    "class VAELossLayer(Layer):\n",
    "    def call(self, inputs):\n",
    "        vae_inputs, vae_outputs, z_mean, z_log_var = inputs\n",
    "        # Reconstruction Loss\n",
    "        reconstruction_loss = tf.reduce_mean(\n",
    "            tf.reduce_sum(tf.square(vae_inputs - vae_outputs), axis=-1)\n",
    "        )\n",
    "        # KL Divergence Loss\n",
    "        kl_loss = -0.5 * tf.reduce_mean(\n",
    "            tf.reduce_sum(1 + z_log_var - tf.square(z_mean) - tf.exp(z_log_var), axis=-1)\n",
    "        )\n",
    "        total_loss = reconstruction_loss + kl_loss\n",
    "        self.add_loss(total_loss)\n",
    "        return vae_outputs  # Pass outputs for further us\n",
    "\n"
   ]
  },
  {
   "cell_type": "code",
   "execution_count": 40,
   "metadata": {},
   "outputs": [],
   "source": [
    "# Replace VAE Model Definition\n",
    "vae_inputs_layer = Input(shape=(vae_input_dim,))\n",
    "vae_encoder_outputs = encoder(vae_inputs_layer)\n",
    "z_mean, z_log_var = vae_encoder_outputs\n",
    "z = Sampling()([z_mean, z_log_var])\n",
    "vae_decoder_outputs = decoder(z)"
   ]
  },
  {
   "cell_type": "code",
   "execution_count": 41,
   "metadata": {},
   "outputs": [],
   "source": [
    "# Add Loss Computation Layer\n",
    "vae_outputs = VAELossLayer()([vae_inputs_layer, vae_decoder_outputs, z_mean, z_log_var])\n",
    "\n",
    "# Final VAE Model\n",
    "vae = Model(vae_inputs_layer, vae_outputs, name='vae')"
   ]
  },
  {
   "cell_type": "code",
   "execution_count": 42,
   "metadata": {},
   "outputs": [
    {
     "name": "stdout",
     "output_type": "stream",
     "text": [
      "Epoch 1/50\n",
      "\u001b[1m8643/8643\u001b[0m \u001b[32m━━━━━━━━━━━━━━━━━━━━\u001b[0m\u001b[37m\u001b[0m \u001b[1m13s\u001b[0m 1ms/step - loss: nan - val_loss: nan\n",
      "Epoch 2/50\n",
      "\u001b[1m8643/8643\u001b[0m \u001b[32m━━━━━━━━━━━━━━━━━━━━\u001b[0m\u001b[37m\u001b[0m \u001b[1m11s\u001b[0m 1ms/step - loss: nan - val_loss: nan\n",
      "Epoch 3/50\n",
      "\u001b[1m8643/8643\u001b[0m \u001b[32m━━━━━━━━━━━━━━━━━━━━\u001b[0m\u001b[37m\u001b[0m \u001b[1m11s\u001b[0m 1ms/step - loss: nan - val_loss: nan\n",
      "Epoch 4/50\n",
      "\u001b[1m8643/8643\u001b[0m \u001b[32m━━━━━━━━━━━━━━━━━━━━\u001b[0m\u001b[37m\u001b[0m \u001b[1m11s\u001b[0m 1ms/step - loss: nan - val_loss: nan\n",
      "Epoch 5/50\n",
      "\u001b[1m8643/8643\u001b[0m \u001b[32m━━━━━━━━━━━━━━━━━━━━\u001b[0m\u001b[37m\u001b[0m \u001b[1m11s\u001b[0m 1ms/step - loss: nan - val_loss: nan\n",
      "Epoch 6/50\n",
      "\u001b[1m8643/8643\u001b[0m \u001b[32m━━━━━━━━━━━━━━━━━━━━\u001b[0m\u001b[37m\u001b[0m \u001b[1m11s\u001b[0m 1ms/step - loss: nan - val_loss: nan\n",
      "Epoch 7/50\n",
      "\u001b[1m8643/8643\u001b[0m \u001b[32m━━━━━━━━━━━━━━━━━━━━\u001b[0m\u001b[37m\u001b[0m \u001b[1m11s\u001b[0m 1ms/step - loss: nan - val_loss: nan\n",
      "Epoch 8/50\n",
      "\u001b[1m8643/8643\u001b[0m \u001b[32m━━━━━━━━━━━━━━━━━━━━\u001b[0m\u001b[37m\u001b[0m \u001b[1m11s\u001b[0m 1ms/step - loss: nan - val_loss: nan\n",
      "Epoch 9/50\n",
      "\u001b[1m8643/8643\u001b[0m \u001b[32m━━━━━━━━━━━━━━━━━━━━\u001b[0m\u001b[37m\u001b[0m \u001b[1m11s\u001b[0m 1ms/step - loss: nan - val_loss: nan\n",
      "Epoch 10/50\n",
      "\u001b[1m8643/8643\u001b[0m \u001b[32m━━━━━━━━━━━━━━━━━━━━\u001b[0m\u001b[37m\u001b[0m \u001b[1m11s\u001b[0m 1ms/step - loss: nan - val_loss: nan\n",
      "Epoch 11/50\n",
      "\u001b[1m8643/8643\u001b[0m \u001b[32m━━━━━━━━━━━━━━━━━━━━\u001b[0m\u001b[37m\u001b[0m \u001b[1m12s\u001b[0m 1ms/step - loss: nan - val_loss: nan\n",
      "Epoch 12/50\n",
      "\u001b[1m8643/8643\u001b[0m \u001b[32m━━━━━━━━━━━━━━━━━━━━\u001b[0m\u001b[37m\u001b[0m \u001b[1m13s\u001b[0m 2ms/step - loss: nan - val_loss: nan\n",
      "Epoch 13/50\n",
      "\u001b[1m8643/8643\u001b[0m \u001b[32m━━━━━━━━━━━━━━━━━━━━\u001b[0m\u001b[37m\u001b[0m \u001b[1m13s\u001b[0m 1ms/step - loss: nan - val_loss: nan\n",
      "Epoch 14/50\n",
      "\u001b[1m8643/8643\u001b[0m \u001b[32m━━━━━━━━━━━━━━━━━━━━\u001b[0m\u001b[37m\u001b[0m \u001b[1m13s\u001b[0m 1ms/step - loss: nan - val_loss: nan\n",
      "Epoch 15/50\n",
      "\u001b[1m8643/8643\u001b[0m \u001b[32m━━━━━━━━━━━━━━━━━━━━\u001b[0m\u001b[37m\u001b[0m \u001b[1m12s\u001b[0m 1ms/step - loss: nan - val_loss: nan\n",
      "Epoch 16/50\n",
      "\u001b[1m8643/8643\u001b[0m \u001b[32m━━━━━━━━━━━━━━━━━━━━\u001b[0m\u001b[37m\u001b[0m \u001b[1m11s\u001b[0m 1ms/step - loss: nan - val_loss: nan\n",
      "Epoch 17/50\n",
      "\u001b[1m8643/8643\u001b[0m \u001b[32m━━━━━━━━━━━━━━━━━━━━\u001b[0m\u001b[37m\u001b[0m \u001b[1m11s\u001b[0m 1ms/step - loss: nan - val_loss: nan\n",
      "Epoch 18/50\n",
      "\u001b[1m8643/8643\u001b[0m \u001b[32m━━━━━━━━━━━━━━━━━━━━\u001b[0m\u001b[37m\u001b[0m \u001b[1m11s\u001b[0m 1ms/step - loss: nan - val_loss: nan\n",
      "Epoch 19/50\n",
      "\u001b[1m8643/8643\u001b[0m \u001b[32m━━━━━━━━━━━━━━━━━━━━\u001b[0m\u001b[37m\u001b[0m \u001b[1m11s\u001b[0m 1ms/step - loss: nan - val_loss: nan\n",
      "Epoch 20/50\n",
      "\u001b[1m8643/8643\u001b[0m \u001b[32m━━━━━━━━━━━━━━━━━━━━\u001b[0m\u001b[37m\u001b[0m \u001b[1m11s\u001b[0m 1ms/step - loss: nan - val_loss: nan\n",
      "Epoch 21/50\n",
      "\u001b[1m8643/8643\u001b[0m \u001b[32m━━━━━━━━━━━━━━━━━━━━\u001b[0m\u001b[37m\u001b[0m \u001b[1m11s\u001b[0m 1ms/step - loss: nan - val_loss: nan\n",
      "Epoch 22/50\n",
      "\u001b[1m8643/8643\u001b[0m \u001b[32m━━━━━━━━━━━━━━━━━━━━\u001b[0m\u001b[37m\u001b[0m \u001b[1m11s\u001b[0m 1ms/step - loss: nan - val_loss: nan\n",
      "Epoch 23/50\n",
      "\u001b[1m8643/8643\u001b[0m \u001b[32m━━━━━━━━━━━━━━━━━━━━\u001b[0m\u001b[37m\u001b[0m \u001b[1m11s\u001b[0m 1ms/step - loss: nan - val_loss: nan\n",
      "Epoch 24/50\n",
      "\u001b[1m8643/8643\u001b[0m \u001b[32m━━━━━━━━━━━━━━━━━━━━\u001b[0m\u001b[37m\u001b[0m \u001b[1m11s\u001b[0m 1ms/step - loss: nan - val_loss: nan\n",
      "Epoch 25/50\n",
      "\u001b[1m8643/8643\u001b[0m \u001b[32m━━━━━━━━━━━━━━━━━━━━\u001b[0m\u001b[37m\u001b[0m \u001b[1m11s\u001b[0m 1ms/step - loss: nan - val_loss: nan\n",
      "Epoch 26/50\n",
      "\u001b[1m8643/8643\u001b[0m \u001b[32m━━━━━━━━━━━━━━━━━━━━\u001b[0m\u001b[37m\u001b[0m \u001b[1m11s\u001b[0m 1ms/step - loss: nan - val_loss: nan\n",
      "Epoch 27/50\n",
      "\u001b[1m8643/8643\u001b[0m \u001b[32m━━━━━━━━━━━━━━━━━━━━\u001b[0m\u001b[37m\u001b[0m \u001b[1m11s\u001b[0m 1ms/step - loss: nan - val_loss: nan\n",
      "Epoch 28/50\n",
      "\u001b[1m8643/8643\u001b[0m \u001b[32m━━━━━━━━━━━━━━━━━━━━\u001b[0m\u001b[37m\u001b[0m \u001b[1m11s\u001b[0m 1ms/step - loss: nan - val_loss: nan\n",
      "Epoch 29/50\n",
      "\u001b[1m8643/8643\u001b[0m \u001b[32m━━━━━━━━━━━━━━━━━━━━\u001b[0m\u001b[37m\u001b[0m \u001b[1m11s\u001b[0m 1ms/step - loss: nan - val_loss: nan\n",
      "Epoch 30/50\n",
      "\u001b[1m8643/8643\u001b[0m \u001b[32m━━━━━━━━━━━━━━━━━━━━\u001b[0m\u001b[37m\u001b[0m \u001b[1m11s\u001b[0m 1ms/step - loss: nan - val_loss: nan\n",
      "Epoch 31/50\n",
      "\u001b[1m8643/8643\u001b[0m \u001b[32m━━━━━━━━━━━━━━━━━━━━\u001b[0m\u001b[37m\u001b[0m \u001b[1m11s\u001b[0m 1ms/step - loss: nan - val_loss: nan\n",
      "Epoch 32/50\n",
      "\u001b[1m8643/8643\u001b[0m \u001b[32m━━━━━━━━━━━━━━━━━━━━\u001b[0m\u001b[37m\u001b[0m \u001b[1m11s\u001b[0m 1ms/step - loss: nan - val_loss: nan\n",
      "Epoch 33/50\n",
      "\u001b[1m8643/8643\u001b[0m \u001b[32m━━━━━━━━━━━━━━━━━━━━\u001b[0m\u001b[37m\u001b[0m \u001b[1m11s\u001b[0m 1ms/step - loss: nan - val_loss: nan\n",
      "Epoch 34/50\n",
      "\u001b[1m8643/8643\u001b[0m \u001b[32m━━━━━━━━━━━━━━━━━━━━\u001b[0m\u001b[37m\u001b[0m \u001b[1m11s\u001b[0m 1ms/step - loss: nan - val_loss: nan\n",
      "Epoch 35/50\n",
      "\u001b[1m8643/8643\u001b[0m \u001b[32m━━━━━━━━━━━━━━━━━━━━\u001b[0m\u001b[37m\u001b[0m \u001b[1m11s\u001b[0m 1ms/step - loss: nan - val_loss: nan\n",
      "Epoch 36/50\n",
      "\u001b[1m8643/8643\u001b[0m \u001b[32m━━━━━━━━━━━━━━━━━━━━\u001b[0m\u001b[37m\u001b[0m \u001b[1m11s\u001b[0m 1ms/step - loss: nan - val_loss: nan\n",
      "Epoch 37/50\n",
      "\u001b[1m8643/8643\u001b[0m \u001b[32m━━━━━━━━━━━━━━━━━━━━\u001b[0m\u001b[37m\u001b[0m \u001b[1m12s\u001b[0m 1ms/step - loss: nan - val_loss: nan\n",
      "Epoch 38/50\n",
      "\u001b[1m8643/8643\u001b[0m \u001b[32m━━━━━━━━━━━━━━━━━━━━\u001b[0m\u001b[37m\u001b[0m \u001b[1m12s\u001b[0m 1ms/step - loss: nan - val_loss: nan\n",
      "Epoch 39/50\n",
      "\u001b[1m8643/8643\u001b[0m \u001b[32m━━━━━━━━━━━━━━━━━━━━\u001b[0m\u001b[37m\u001b[0m \u001b[1m12s\u001b[0m 1ms/step - loss: nan - val_loss: nan\n",
      "Epoch 40/50\n",
      "\u001b[1m8643/8643\u001b[0m \u001b[32m━━━━━━━━━━━━━━━━━━━━\u001b[0m\u001b[37m\u001b[0m \u001b[1m12s\u001b[0m 1ms/step - loss: nan - val_loss: nan\n",
      "Epoch 41/50\n",
      "\u001b[1m8643/8643\u001b[0m \u001b[32m━━━━━━━━━━━━━━━━━━━━\u001b[0m\u001b[37m\u001b[0m \u001b[1m11s\u001b[0m 1ms/step - loss: nan - val_loss: nan\n",
      "Epoch 42/50\n",
      "\u001b[1m8643/8643\u001b[0m \u001b[32m━━━━━━━━━━━━━━━━━━━━\u001b[0m\u001b[37m\u001b[0m \u001b[1m12s\u001b[0m 1ms/step - loss: nan - val_loss: nan\n",
      "Epoch 43/50\n",
      "\u001b[1m8643/8643\u001b[0m \u001b[32m━━━━━━━━━━━━━━━━━━━━\u001b[0m\u001b[37m\u001b[0m \u001b[1m11s\u001b[0m 1ms/step - loss: nan - val_loss: nan\n",
      "Epoch 44/50\n",
      "\u001b[1m8643/8643\u001b[0m \u001b[32m━━━━━━━━━━━━━━━━━━━━\u001b[0m\u001b[37m\u001b[0m \u001b[1m11s\u001b[0m 1ms/step - loss: nan - val_loss: nan\n",
      "Epoch 45/50\n",
      "\u001b[1m8643/8643\u001b[0m \u001b[32m━━━━━━━━━━━━━━━━━━━━\u001b[0m\u001b[37m\u001b[0m \u001b[1m11s\u001b[0m 1ms/step - loss: nan - val_loss: nan\n",
      "Epoch 46/50\n",
      "\u001b[1m8643/8643\u001b[0m \u001b[32m━━━━━━━━━━━━━━━━━━━━\u001b[0m\u001b[37m\u001b[0m \u001b[1m11s\u001b[0m 1ms/step - loss: nan - val_loss: nan\n",
      "Epoch 47/50\n",
      "\u001b[1m8643/8643\u001b[0m \u001b[32m━━━━━━━━━━━━━━━━━━━━\u001b[0m\u001b[37m\u001b[0m \u001b[1m11s\u001b[0m 1ms/step - loss: nan - val_loss: nan\n",
      "Epoch 48/50\n",
      "\u001b[1m8643/8643\u001b[0m \u001b[32m━━━━━━━━━━━━━━━━━━━━\u001b[0m\u001b[37m\u001b[0m \u001b[1m11s\u001b[0m 1ms/step - loss: nan - val_loss: nan\n",
      "Epoch 49/50\n",
      "\u001b[1m8643/8643\u001b[0m \u001b[32m━━━━━━━━━━━━━━━━━━━━\u001b[0m\u001b[37m\u001b[0m \u001b[1m11s\u001b[0m 1ms/step - loss: nan - val_loss: nan\n",
      "Epoch 50/50\n",
      "\u001b[1m8643/8643\u001b[0m \u001b[32m━━━━━━━━━━━━━━━━━━━━\u001b[0m\u001b[37m\u001b[0m \u001b[1m11s\u001b[0m 1ms/step - loss: nan - val_loss: nan\n"
     ]
    },
    {
     "data": {
      "text/plain": [
       "<keras.src.callbacks.history.History at 0x188f788ebf0>"
      ]
     },
     "execution_count": 42,
     "metadata": {},
     "output_type": "execute_result"
    }
   ],
   "source": [
    "# Compile and Train the VAE\n",
    "vae.compile(optimizer='adam')\n",
    "vae.fit(X_train[:, -1, :], X_train[:, -1, :], epochs=50, batch_size=64, validation_data=(X_val[:, -1, :], X_val[:, -1, :]))\n",
    "\n"
   ]
  },
  {
   "cell_type": "code",
   "execution_count": 43,
   "metadata": {},
   "outputs": [],
   "source": [
    "# Generate Personalized Recommendations\n",
    "def generate_recommendations(vae, patient_data):\n",
    "    \"\"\"Generate personalized recommendations using the VAE model.\"\"\"\n",
    "    synthetic_pathway = vae.predict(patient_data)\n",
    "    recommendations = []\n",
    "    for pathway in synthetic_pathway:\n",
    "        if pathway.mean() > 0.5:  # Example condition for recommendations\n",
    "            recommendations.append(\"Recommend aggressive intervention.\")\n",
    "        else:\n",
    "            recommendations.append(\"Recommend close monitoring.\")\n",
    "    return recommendations\n",
    "\n"
   ]
  },
  {
   "cell_type": "code",
   "execution_count": 44,
   "metadata": {},
   "outputs": [
    {
     "name": "stdout",
     "output_type": "stream",
     "text": [
      "\u001b[1m3705/3705\u001b[0m \u001b[32m━━━━━━━━━━━━━━━━━━━━\u001b[0m\u001b[37m\u001b[0m \u001b[1m3s\u001b[0m 687us/step\n",
      "Patient 1: Recommend close monitoring.\n",
      "Patient 2: Recommend close monitoring.\n",
      "Patient 3: Recommend close monitoring.\n",
      "Patient 4: Recommend close monitoring.\n",
      "Patient 5: Recommend close monitoring.\n"
     ]
    }
   ],
   "source": [
    "# Example Usage with LSTM + VAE\n",
    "patient_data = X_test[:, -1, :]\n",
    "recommendations = generate_recommendations(vae, patient_data)\n",
    "for i, rec in enumerate(recommendations[:5]):\n",
    "    print(f\"Patient {i + 1}: {rec}\")"
   ]
  }
 ],
 "metadata": {
  "kernelspec": {
   "display_name": "aaa_env",
   "language": "python",
   "name": "python3"
  },
  "language_info": {
   "codemirror_mode": {
    "name": "ipython",
    "version": 3
   },
   "file_extension": ".py",
   "mimetype": "text/x-python",
   "name": "python",
   "nbconvert_exporter": "python",
   "pygments_lexer": "ipython3",
   "version": "3.10.15"
  }
 },
 "nbformat": 4,
 "nbformat_minor": 2
}
